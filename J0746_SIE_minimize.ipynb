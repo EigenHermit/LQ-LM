{
 "cells": [
  {
   "cell_type": "code",
   "execution_count": 1,
   "id": "5507ec61",
   "metadata": {},
   "outputs": [
    {
     "name": "stdout",
     "output_type": "stream",
     "text": [
      "Populating the interactive namespace from numpy and matplotlib\n"
     ]
    }
   ],
   "source": [
    "import numpy as np\n",
    "import matplotlib.pyplot as pl\n",
    "import seaborn as sns\n",
    "from astropy.io import fits\n",
    "import cv2\n",
    "import galsim\n",
    "import pandas as pd\n",
    "from scipy.ndimage import gaussian_filter\n",
    "%pylab inline\n",
    "from astropy.table import Table\n",
    "\n",
    "from astropy import units as u\n",
    "from astropy import constants as const\n",
    "import lenstronomy.Plots.lens_plot as lp"
   ]
  },
  {
   "cell_type": "code",
   "execution_count": 2,
   "id": "e1c700f5",
   "metadata": {},
   "outputs": [],
   "source": [
    "# import standard python modules\n",
    "# you may need to install lenstronomy and Anaconda environment\n",
    "# pip install lenstronomy==1.10.2\n",
    "import numpy as np\n",
    "import matplotlib.pyplot as plt\n",
    "from lenstronomy.LensModel.lens_model import LensModel\n",
    "from lenstronomy.LensModel.Solver.lens_equation_solver import LensEquationSolver\n",
    "from scipy.optimize import minimize\n",
    "from scipy.optimize import dual_annealing\n",
    "import lenstronomy.Util.param_util as param_util"
   ]
  },
  {
   "cell_type": "code",
   "execution_count": 3,
   "id": "ba2c1b2c",
   "metadata": {},
   "outputs": [],
   "source": [
    "hdul = fits.open('../PSF_sub_J0746/J0746-z_fit_PSFs_one_sersic.fits')\n",
    "dof=hdul[0].header['DOF']\n",
    "chi2_0=hdul[0].header['CHI2']\n",
    "ppar0=(hdul[3].data).p_phot\n",
    "img=hdul[4].data\n",
    "model0=hdul[6].data\n",
    "hdul.close()"
   ]
  },
  {
   "cell_type": "markdown",
   "id": "11b72e39",
   "metadata": {},
   "source": [
    "## 读取位置，这里ra dec不重要。只需要读取从之前建模中得到的PSF位置和中心星系位置就行"
   ]
  },
  {
   "cell_type": "markdown",
   "id": "82590a36",
   "metadata": {},
   "source": [
    "ppar0的含义：\n",
    "\n",
    "ppar0[0:13]是第一个PSF的参数\n",
    "#PSF1_amp             [0]\n",
    "#PSF1_x               [1]\n",
    "#PSF1_y               [2]\n",
    "#PSF1_alpha           [3]\n",
    "#PSF1_PHI             [4]\n",
    "#PSF1_q               [5]\n",
    "#PSF1_beta            [6]\n",
    "#PSF2_amp             [7]\n",
    "#PSF2_x               [8]\n",
    "#PSF2_y               [9]\n",
    "#PSF2_alpha           [10]\n",
    "#PSF2_PHI             [11]\n",
    "#PSF2_q               [12]\n",
    "#PSF2_beta            [13]\n",
    "\n",
    "ppar0[14:28]是第二个PSF的参数\n",
    "\n",
    "#PSF1_amp             [14]\n",
    "#PSF1_x               [15]\n",
    "#PSF1_y               [16]\n",
    "#PSF1_alpha           [17]\n",
    "#PSF1_PHI             [18]\n",
    "#PSF1_q               [19]\n",
    "#PSF1_beta            [20]\n",
    "#PSF2_amp             [21]\n",
    "#PSF2_x               [22]\n",
    "#PSF2_y               [23]\n",
    "#PSF2_alpha           [24]\n",
    "#PSF2_PHI             [25]\n",
    "#PSF2_q               [26]\n",
    "#PSF2_beta            [27]\n",
    "\n",
    "ppar0[28:] 是sersic 参数，按顺序：\n",
    "#peak value of sersic [28]\n",
    "#location x of sersic [29]\n",
    "#location y of sersic [30]\n",
    "#effective radius     [31]\n",
    "#position angle       [32]\n",
    "#q                    [33]\n",
    "#sersic index         [34]\n",
    "#background           [35]"
   ]
  },
  {
   "cell_type": "code",
   "execution_count": 4,
   "id": "fd0861e1",
   "metadata": {},
   "outputs": [],
   "source": [
    "e1_light,e2_light=np.round(param_util.phi_q2_ellipticity(phi=(ppar0[32]-90)/180.0*np.pi,q=ppar0[33]),2)"
   ]
  },
  {
   "cell_type": "code",
   "execution_count": 5,
   "id": "9a67205a",
   "metadata": {},
   "outputs": [
    {
     "data": {
      "text/plain": [
       "(0.19, 0.26)"
      ]
     },
     "execution_count": 5,
     "metadata": {},
     "output_type": "execute_result"
    }
   ],
   "source": [
    "e1_light,e2_light"
   ]
  },
  {
   "cell_type": "code",
   "execution_count": 6,
   "id": "77e35737",
   "metadata": {},
   "outputs": [],
   "source": [
    "phi= ppar0[32]\n",
    "q  = ppar0[33]\n",
    "img1_x = ppar0[1]\n",
    "img1_y = ppar0[2]\n",
    "\n",
    "img2_x = ppar0[15]\n",
    "img2_y = ppar0[16]\n",
    "\n",
    "gal_x = ppar0[29]\n",
    "gal_y = ppar0[30]\n",
    "\n",
    "img1_x_mod = img1_x-gal_x\n",
    "img1_y_mod = img1_y-gal_y\n",
    "img2_x_mod = img2_x-gal_x\n",
    "img2_y_mod = img2_y-gal_y\n",
    "\n",
    "pix_scale=0.262\n",
    "x_image_data = np.array([img1_x_mod,img2_x_mod])*pix_scale\n",
    "y_image_data = np.array([img1_y_mod,img2_y_mod])*pix_scale\n",
    "xpos_err_data = np.array([0.01,0.01])\n",
    "ypos_err_data = np.array([0.01,0.01])\n",
    "\n",
    "\n",
    "from scipy.optimize import minimize\n",
    "from itertools import permutations\n",
    "\n",
    "\n",
    "def sort(x_image_model, x_image_data, y_image_model, y_image_data, xpos_err_data, ypos_err_data):\n",
    "    # 定义目标函数\n",
    "    def objective_function(indices):\n",
    "        # 重新排列模型数组\n",
    "        reordered_x_model = x_image_model[list(indices)]\n",
    "        reordered_y_model = y_image_model[list(indices)]\n",
    "        \n",
    "        # 计算目标函数\n",
    "        res = np.sum((reordered_x_model - x_image_data)**2 / xpos_err_data**2 +\n",
    "                     (reordered_y_model - y_image_data)**2 / ypos_err_data**2)\n",
    "        return res\n",
    "\n",
    "    # 获取所有可能的排列\n",
    "    index_permutations = permutations(range(len(x_image_model)))\n",
    "\n",
    "    # 初始化最小值和最佳排列\n",
    "    min_value = float('inf')\n",
    "    best_permutation = None\n",
    "\n",
    "    # 遍历所有排列，寻找最小化目标函数的排列\n",
    "    for perm in index_permutations:\n",
    "        current_value = objective_function(perm)\n",
    "        if current_value < min_value:\n",
    "            min_value = current_value\n",
    "            best_permutation = perm\n",
    "\n",
    "    # 根据最佳排列重新排序x_image_model和y_image_model\n",
    "    sorted_x_image_model = x_image_model[list(best_permutation)]\n",
    "    sorted_y_image_model = y_image_model[list(best_permutation)]\n",
    "\n",
    "    # 返回重新排序的数组\n",
    "    return sorted_x_image_model, sorted_y_image_model\n",
    "\n",
    "\n",
    "def chi2(x_image_model, y_image_model):\n",
    "    \n",
    "    if len(x_image_model)!=len(x_image_data):\n",
    "        return 1e90\n",
    "    \n",
    "    \n",
    "    x_image_model_sorted, y_image_model_sorted = \\\n",
    "    sort(x_image_model, x_image_data, y_image_model, y_image_data, xpos_err_data, ypos_err_data)\n",
    "    \n",
    "    res=(x_image_model_sorted - x_image_data)**2 / xpos_err_data**2 + \\\n",
    "        (y_image_model_sorted - y_image_data)**2 / ypos_err_data**2\n",
    "    return res.sum()\n",
    "\n",
    "def GetModelSolution(e1,e2,xs1,xs2,theta_E,plot=False):\n",
    "    \n",
    "    lensEquationSolver = LensEquationSolver(LensModel(['SIE'])) \n",
    "\n",
    "    kwargs_sie = {'theta_E': theta_E, 'e1':e1, 'e2': e2, 'center_x': 0.0, 'center_y': 0.0}\n",
    "    kwargs_lens_list = [kwargs_sie]    \n",
    "        \n",
    "    x, y = lensEquationSolver.image_position_from_source(\n",
    "    kwargs_lens=kwargs_lens_list, \n",
    "    sourcePos_x=xs1, \n",
    "    sourcePos_y=xs2, \n",
    "    min_distance=0.01, \n",
    "    search_window=5, \n",
    "    precision_limit=10**(-10), \n",
    "    num_iter_max=30,\n",
    "    solver='lenstronomy',\n",
    "    non_linear=False,\n",
    "    arrival_time_sort=False,)\n",
    "    \n",
    "    if plot:\n",
    "    \n",
    "        fig, ax = plt.subplots(1, 1, figsize=(5, 5))\n",
    "        lp.lens_model_plot(ax,LensModel(['SIE']),kwargs_lens_list,point_source=True,with_caustics=True,\\\n",
    "                          with_convergence=False,sourcePos_x=xs1,sourcePos_y=xs2)\n",
    "    \n",
    "    \n",
    "    return x,y"
   ]
  },
  {
   "cell_type": "code",
   "execution_count": 24,
   "id": "f676b09e",
   "metadata": {},
   "outputs": [
    {
     "name": "stderr",
     "output_type": "stream",
     "text": [
      "/home/zizhao/anaconda3/envs/lqmassfit/lib/python3.7/site-packages/scipy/optimize/_minimize.py:523: RuntimeWarning: Method Nelder-Mead does not use gradient information (jac).\n",
      "  RuntimeWarning)\n"
     ]
    },
    {
     "name": "stdout",
     "output_type": "stream",
     "text": [
      "e1: 0.13219249131754524 ± nan\n",
      "e2: -0.1182117302595917 ± nan\n",
      "xs1: 0.3212031341709596 ± nan\n",
      "xs2: -0.4407424101743472 ± nan\n",
      "theta_E: 1.2879403365994475 ± nan\n"
     ]
    },
    {
     "data": {
      "text/plain": [
       "(array([ 0.63174251, -0.5098455 ]), array([-1.70085743,  0.46160777]))"
      ]
     },
     "execution_count": 24,
     "metadata": {},
     "output_type": "execute_result"
    },
    {
     "data": {
      "image/png": "[encoded data removed]",
      "text/plain": [
       "<Figure size 500x500 with 1 Axes>"
      ]
     },
     "metadata": {},
     "output_type": "display_data"
    }
   ],
   "source": [
    "\n",
    "\n",
    "# Assuming ppar0 and other necessary imports and definitions are provided above this code\n",
    "\n",
    "def objective(params):\n",
    "    e1, e2, xs1, xs2, theta_E = params\n",
    "    x_image_model, y_image_model = GetModelSolution(e1, e2, xs1, xs2, theta_E, plot=False)\n",
    "    return chi2(x_image_model, y_image_model)\n",
    "\n",
    "# Initial guess for the parameters\n",
    "initial_guess = [0.11, -0.13, 0.3, -0.35, 1]\n",
    "# initial_guess=[0.22752506082081317, 0.0507744936806883,  0.2626, -0.481422, 1.208]\n",
    "\n",
    "# Perform the optimization\n",
    "result = minimize(objective, initial_guess, method='Nelder-Mead')\n",
    "\n",
    "# Extract the optimized parameters\n",
    "optimized_params = result.x\n",
    "e1_opt, e2_opt, xs1_opt, xs2_opt, theta_E_opt = optimized_params\n",
    "\n",
    "# Calculate error bars using the square root of the diagonal elements of the covariance matrix\n",
    "# Note: To get a proper covariance matrix, one might need to use methods that estimate it, such as least_squares with 'trf' or 'dogbox' method\n",
    "# Here we provide a placeholder approach as an example\n",
    "try:\n",
    "    error_bars = np.sqrt(np.diag(result.hess_inv.todense()))\n",
    "except AttributeError:\n",
    "    # If the Hessian is not available, error bars cannot be directly calculated\n",
    "    error_bars = np.full_like(optimized_params, np.nan)\n",
    "\n",
    "# Print optimized parameters and their error bars\n",
    "param_names = ['e1', 'e2', 'xs1', 'xs2', 'theta_E']\n",
    "for name, value, error in zip(param_names, optimized_params, error_bars):\n",
    "    print(f\"{name}: {value} ± {error}\")\n",
    "\n",
    "# Optionally, plot the solution\n",
    "GetModelSolution(e1_opt, e2_opt, xs1_opt, xs2_opt, theta_E_opt, plot=True)"
   ]
  },
  {
   "cell_type": "code",
   "execution_count": 25,
   "id": "c183db89",
   "metadata": {},
   "outputs": [
    {
     "data": {
      "text/plain": [
       "(0.13219249131754524,\n",
       " -0.1182117302595917,\n",
       " 0.3212031341709596,\n",
       " -0.4407424101743472,\n",
       " 1.2879403365994475)"
      ]
     },
     "execution_count": 25,
     "metadata": {},
     "output_type": "execute_result"
    }
   ],
   "source": [
    "e1_opt, e2_opt, xs1_opt, xs2_opt, theta_E_opt"
   ]
  },
  {
   "cell_type": "code",
   "execution_count": 27,
   "id": "7a21d9da",
   "metadata": {},
   "outputs": [],
   "source": [
    "# result.hess_inv.todense()"
   ]
  },
  {
   "cell_type": "code",
   "execution_count": 28,
   "id": "d2fa5650",
   "metadata": {},
   "outputs": [
    {
     "name": "stdout",
     "output_type": "stream",
     "text": [
      "initial_chi2: 0.00031878147160566757\n",
      "opt_chi2: 5.58905700901975e-05\n",
      "improve: 5.703671855399053\n"
     ]
    }
   ],
   "source": [
    "x_image_ini,y_image_ini = GetModelSolution(0.22752506082081317, 0.0507744936806883,  0.2626, -0.481422, 1.208,plot=False)\n",
    "x_image_opt,y_image_opt = GetModelSolution(e1_opt, e2_opt, xs1_opt, xs2_opt, theta_E_opt,plot=False)\n",
    "print(\"initial_chi2:\",chi2(x_image_ini,y_image_ini))\n",
    "print(\"opt_chi2:\",chi2(x_image_opt,y_image_opt))\n",
    "print(\"improve:\",chi2(x_image_ini,y_image_ini)/chi2(x_image_opt,y_image_opt))"
   ]
  },
  {
   "cell_type": "code",
   "execution_count": 29,
   "id": "ad46b103",
   "metadata": {},
   "outputs": [
    {
     "data": {
      "text/plain": [
       "0.00031878189358618364"
      ]
     },
     "execution_count": 29,
     "metadata": {},
     "output_type": "execute_result"
    },
    {
     "data": {
      "image/png": "[encoded data removed]",
      "text/plain": [
       "<Figure size 500x500 with 1 Axes>"
      ]
     },
     "metadata": {},
     "output_type": "display_data"
    }
   ],
   "source": [
    "e1tst,e2tst=param_util.phi_q2_ellipticity(phi=(96.29+90)/180.0*np.pi, q=0.6219)\n",
    "x_image_tst,y_image_tst = GetModelSolution(e1tst, e2tst, 0.2626, -0.481422, 1.208, plot=True)\n",
    "chi2(x_image_tst,y_image_tst)"
   ]
  },
  {
   "cell_type": "code",
   "execution_count": 30,
   "id": "6ee46227",
   "metadata": {},
   "outputs": [
    {
     "data": {
      "text/plain": [
       "<matplotlib.legend.Legend at 0x7f2980ac3810>"
      ]
     },
     "execution_count": 30,
     "metadata": {},
     "output_type": "execute_result"
    },
    {
     "data": {
      "image/png": "[encoded data removed]",
      "text/plain": [
       "<Figure size 500x500 with 1 Axes>"
      ]
     },
     "metadata": {},
     "output_type": "display_data"
    }
   ],
   "source": [
    "pl.figure(figsize=(5,5))\n",
    "pl.scatter(x_image_data,y_image_data,label=\"data\")\n",
    "pl.scatter(x_image_opt,y_image_opt,label=\"opt\",marker=\"*\")\n",
    "# pl.scatter(x_image_ini,y_image_ini,label=\"ini\")\n",
    "# pl.scatter(x_image_tst,y_image_tst,label=\"lmfit\",marker=\"*\")\n",
    "pl.xlim(-2,2)\n",
    "pl.ylim(-2,2)\n",
    "pl.legend()"
   ]
  },
  {
   "cell_type": "code",
   "execution_count": 13,
   "id": "7810f729",
   "metadata": {},
   "outputs": [
    {
     "data": {
      "text/plain": [
       "(0.10978120995044376, 0.6219)"
      ]
     },
     "execution_count": 13,
     "metadata": {},
     "output_type": "execute_result"
    }
   ],
   "source": [
    "param_util.ellipticity2phi_q(e1_opt,e2_opt)"
   ]
  },
  {
   "cell_type": "code",
   "execution_count": 14,
   "id": "700da94d",
   "metadata": {},
   "outputs": [
    {
     "data": {
      "text/plain": [
       "6.290000000000021"
      ]
     },
     "execution_count": 14,
     "metadata": {},
     "output_type": "execute_result"
    }
   ],
   "source": [
    "np.rad2deg(0.1097812099504437)"
   ]
  },
  {
   "cell_type": "code",
   "execution_count": 15,
   "id": "8b49ce6b",
   "metadata": {},
   "outputs": [
    {
     "data": {
      "text/plain": [
       "(0.22752506082081317, 0.0507744936806883)"
      ]
     },
     "execution_count": 15,
     "metadata": {},
     "output_type": "execute_result"
    }
   ],
   "source": [
    "e1_opt,e2_opt"
   ]
  },
  {
   "cell_type": "code",
   "execution_count": 16,
   "id": "88e7e221",
   "metadata": {},
   "outputs": [
    {
     "data": {
      "text/plain": [
       "27.027553395592534"
      ]
     },
     "execution_count": 16,
     "metadata": {},
     "output_type": "execute_result"
    }
   ],
   "source": [
    "ppar0[32]-90"
   ]
  },
  {
   "cell_type": "code",
   "execution_count": 23,
   "id": "f786da01",
   "metadata": {},
   "outputs": [],
   "source": [
    "minimize?"
   ]
  },
  {
   "cell_type": "code",
   "execution_count": null,
   "id": "25c67542",
   "metadata": {},
   "outputs": [],
   "source": []
  }
 ],
 "metadata": {
  "kernelspec": {
   "display_name": "lqmassfit-kernel",
   "language": "python",
   "name": "lqmassfit-kernel"
  },
  "language_info": {
   "codemirror_mode": {
    "name": "ipython",
    "version": 3
   },
   "file_extension": ".py",
   "mimetype": "text/x-python",
   "name": "python",
   "nbconvert_exporter": "python",
   "pygments_lexer": "ipython3",
   "version": "3.7.16"
  }
 },
 "nbformat": 4,
 "nbformat_minor": 5
}
