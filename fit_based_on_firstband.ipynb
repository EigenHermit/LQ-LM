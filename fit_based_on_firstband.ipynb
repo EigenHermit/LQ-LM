{
 "cells": [
  {
   "cell_type": "code",
   "execution_count": 1,
   "id": "60d5b6ab",
   "metadata": {},
   "outputs": [],
   "source": [
    "import sys\n",
    "\n",
    "sys.path.append(\"../lfit_gui/\")\n",
    "\n",
    "import numpy as np\n",
    "import matplotlib\n",
    "matplotlib.use('Agg')\n",
    "import matplotlib.pyplot as plt\n",
    "from matplotlib import patches\n",
    "import matplotlib.colors as colors\n",
    "from astropy.io import fits\n",
    "from astropy.visualization import simple_norm\n",
    "from astropy.visualization import PercentileInterval, AsinhStretch\n",
    "from astropy.wcs import WCS\n",
    "import os, commands\n",
    "import lens_funcs_gui as lf\n",
    "import sys"
   ]
  },
  {
   "cell_type": "code",
   "execution_count": 2,
   "id": "e220dcf8",
   "metadata": {},
   "outputs": [
    {
     "data": {
      "text/plain": [
       "'\\nAssume you have these four data\\n1. cutout: the cutout of the system\\n2. cutout_invvar: inverse variance of cutout\\n3. star: the cutout of the star\\n4. star_invvar: inverse variance of star\\n'"
      ]
     },
     "execution_count": 2,
     "metadata": {},
     "output_type": "execute_result"
    }
   ],
   "source": [
    "from astropy import units as u\n",
    "from astropy.coordinates import SkyCoord\n",
    "from astropy.utils.data import clear_download_cache\n",
    "\n",
    "plt.rcParams.update({'font.sans-serif': 'Computer Modern Sans Serif', 'mathtext.fontset': 'cm', 'font.size': 8, 'font.weight': 'normal', 'font.family': 'serif', 'mathtext.fontset': 'dejavuserif', 'xtick.labelsize': 8, 'ytick.labelsize': 8, 'xtick.major.width': 1.0, 'xtick.major.size': 6.0, 'xtick.minor.size': 3.0, 'ytick.major.width': 1.0, 'ytick.major.size': 6.0, 'ytick.minor.size': 3.0, 'axes.linewidth': 1.0, 'legend.borderpad': 0.2, 'legend.handletextpad': 0.2, 'legend.labelspacing': 0.4, 'interactive': False})\n",
    "\n",
    "'''\n",
    "Assume you have these four data\n",
    "1. cutout: the cutout of the system\n",
    "2. cutout_invvar: inverse variance of cutout\n",
    "3. star: the cutout of the star\n",
    "4. star_invvar: inverse variance of star\n",
    "'''\n",
    "\n"
   ]
  },
  {
   "cell_type": "code",
   "execution_count": 45,
   "id": "4452f0a6",
   "metadata": {},
   "outputs": [
    {
     "name": "stdout",
     "output_type": "stream",
     "text": [
      "data\t     fit_based_on_firstband.ipynb  model_plot.py       未命名.ipynb\r\n",
      "DLM.ipynb    fit_firstband.ipynb\t   results\r\n",
      "DLM_results  model_band_plot.py\t\t   show_results.ipynb\r\n"
     ]
    }
   ],
   "source": [
    "! ls"
   ]
  },
  {
   "cell_type": "code",
   "execution_count": 55,
   "id": "2d0f6796",
   "metadata": {},
   "outputs": [],
   "source": [
    "band=\"r\"\n",
    "band_basedon=\"z\"\n",
    "obj=\"J0746\"\n",
    "obj_name=obj+\"-\"+band\n",
    "\n",
    "#g-12\n",
    "#r-34\n",
    "#z-56\n",
    "\n",
    "if band==\"g\":\n",
    "    hdul = fits.open('./data/'+obj+'/'+obj+'-cutout.fits')\n",
    "    cutout = hdul[1].data \n",
    "    cutout_invvar = hdul[2].data\n",
    "\n",
    "    hdul = fits.open('./data/'+obj+'/'+obj+'-star.fits')\n",
    "    star = hdul[1].data\n",
    "    star_invvar = hdul[2].data\n",
    "elif band==\"r\":\n",
    "    hdul = fits.open('./data/'+obj+'/'+obj+'-cutout.fits')\n",
    "    cutout = hdul[3].data \n",
    "    cutout_invvar = hdul[4].data\n",
    "\n",
    "    hdul = fits.open('./data/'+obj+'/'+obj+'-star.fits')\n",
    "    star = hdul[3].data\n",
    "    star_invvar = hdul[4].data\n",
    "elif band==\"z\":\n",
    "    hdul = fits.open('./data/'+obj+'/'+obj+'-cutout.fits')\n",
    "    cutout = hdul[5].data \n",
    "    cutout_invvar = hdul[6].data\n",
    "\n",
    "    hdul = fits.open('./data/'+obj+'/'+obj+'-star.fits')\n",
    "    star = hdul[5].data\n",
    "    star_invvar = hdul[6].data\n",
    "    \n",
    "else:\n",
    "    assert False\n",
    "    \n",
    "#0746\n",
    "n_PSF = 2\n",
    "x_PSFs = [-5,1]\n",
    "y_PSFs = [4, -5]\n",
    "peak_PSF = [2.4567146,0.6257189]\n",
    "\n",
    "#2121\n",
    "n_PSF = 2\n",
    "x_PSFs = [1,-1]\n",
    "y_PSFs = [1, -1]\n",
    "peak_PSF = [10,10]"
   ]
  },
  {
   "cell_type": "code",
   "execution_count": 56,
   "id": "53436b00",
   "metadata": {},
   "outputs": [],
   "source": [
    "# Some basic parameters\n",
    "# print(cutout.shape)\n",
    "hw=cutout.shape[0]/2\n",
    "hw_star=star.shape[0]/2\n",
    "dpix=1\n",
    "pixel_to_arcsec=0.262\n",
    "\n",
    "\n",
    "mask=np.ones_like(star, dtype=int)\n",
    "hdu=fits.PrimaryHDU(1.0*star)\n",
    "hdulist=fits.HDUList([hdu])\n",
    "hdulist.append(fits.ImageHDU(star_invvar))\n",
    "hdulist.append(fits.ImageHDU(np.array([0])))\n",
    "hdulist.append(fits.ImageHDU(mask))\n",
    "hdulist.writeto('temp_star.fits', overwrite=True)"
   ]
  },
  {
   "cell_type": "code",
   "execution_count": 57,
   "id": "dbf59bec",
   "metadata": {},
   "outputs": [],
   "source": [
    "#read previous result\n",
    "prior_result_path = './results/'+obj+'-'+band_basedon+'_fit_PSFs_one_sersic.fits'\n",
    "hdul = fits.open(prior_result_path)\n",
    "ppar0=(hdul[3].data).p_phot\n",
    "\n",
    "#PSF0\n",
    "psf0_xcen=ppar0[1] #xcen\n",
    "psf0_ycen=ppar0[2] #ycen\n",
    "\n",
    "#PSF1\n",
    "psf1_xcen=ppar0[8] #xcen\n",
    "psf1_ycen=ppar0[9] #ycen\n",
    "\n",
    "#PSF2\n",
    "psf2_xcen=ppar0[15] #xcen\n",
    "psf2_ycen=ppar0[16] #ycen\n",
    "\n",
    "#PSF3\n",
    "psf3_xcen=ppar0[22] #xcen\n",
    "psf3_ycen=ppar0[23] #ycen\n",
    "\n",
    "#sersic\n",
    "sersic_xcen=ppar0[29] #xcen\n",
    "sersic_ycen=ppar0[30] #ycen\n",
    "sersic_r=ppar0[31]  #q\n",
    "sersic_pa=ppar0[32] #pa\n",
    "sersic_q=ppar0[33]  #q\n",
    "sersic_n=ppar0[34]  #q"
   ]
  },
  {
   "cell_type": "code",
   "execution_count": 58,
   "id": "486d44fe",
   "metadata": {},
   "outputs": [
    {
     "data": {
      "text/plain": [
       "(-3.997046897986724, 4.194647613457185)"
      ]
     },
     "execution_count": 58,
     "metadata": {},
     "output_type": "execute_result"
    }
   ],
   "source": [
    "psf0_xcen,psf0_ycen"
   ]
  },
  {
   "cell_type": "code",
   "execution_count": 59,
   "id": "6cd3c044",
   "metadata": {},
   "outputs": [
    {
     "data": {
      "text/plain": [
       "(0.3599058835429112, -4.05924698540589)"
      ]
     },
     "execution_count": 59,
     "metadata": {},
     "output_type": "execute_result"
    }
   ],
   "source": [
    "psf2_xcen,psf2_ycen"
   ]
  },
  {
   "cell_type": "markdown",
   "id": "d0755915",
   "metadata": {},
   "source": [
    "## 拟合恒星"
   ]
  },
  {
   "cell_type": "code",
   "execution_count": 9,
   "id": "3a76302c",
   "metadata": {},
   "outputs": [],
   "source": [
    "f=open('parfile_star', 'w')\n",
    "f.write(\"temp_star.fits 0\\n\")\n",
    "f.write(\"temp_star.fits 1\\n\")\n",
    "f.write(\"temp_star.fits 2\\n\")\n",
    "f.write(\"temp_star.fits 3\\n\")\n",
    "f.write(\"temp_star.fits 3\\n\")\n",
    "f.write(\"temp_star.fits 3\\n\")\n",
    "f.write(\"star_fit.fits\\n\")\n",
    "f.write(\"{:d} {:f}\\n\".format(hw_star, dpix))\n",
    "f.write(\"0  sersic\\n\")\n",
    "f.write(\"0  sie\\n\")\n",
    "f.write(\"3  moffat,moffat,foreg\\n\")\n",
    "f.write(\"1\\n\")\n",
    "f.write(\"0\\n\")#scale\n",
    "\n",
    "f.write(\"value={:f}, min=0.0\\n\".format(star.sum()-np.median(star)*hw_star**2.0*4))\n",
    "f.write(\"value=0.0, min=-3.0, max=3.0\\n\")\n",
    "f.write(\"value=0.0, min=-3.0, max=3.0\\n\")\n",
    "f.write(\"value=3.0, min=0.01\\n\")\n",
    "f.write(\"value=120.0, vary=1, min=0.0, max=180.0\\n\")\n",
    "f.write(\"value=0.8, vary=1, min=0.1, max=1.0\\n\")\n",
    "f.write(\"value=2.0, min=1.0, max=10.0\\n\")\n",
    "\n",
    "f.write(\"value={:f}, min=0.0\\n\".format(star.sum()-np.median(star)*hw_star**2.0*4))\n",
    "# f.write(\"expr=phot0_xcen\\n\")\n",
    "# f.write(\"expr=phot0_ycen\\n\")\n",
    "f.write(\"value=0.0, min=-3.0, max=3.0\\n\")\n",
    "f.write(\"value=0.0, min=-3.0, max=3.0\\n\")\n",
    "f.write(\"value=3.0, min=0.01\\n\")\n",
    "f.write(\"value=120.0, vary=1, min=0.0, max=180.0\\n\")\n",
    "f.write(\"value=0.8, vary=1, min=0.1, max=1.0\\n\")\n",
    "f.write(\"value=2.0, min=1.0, max=10.0\\n\")\n",
    "\n",
    "f.write(\"value={:f}\\n\".format(np.median(star)))\n",
    "f.close()"
   ]
  },
  {
   "cell_type": "markdown",
   "id": "c5cc1236",
   "metadata": {},
   "source": [
    "### 激活py2，转移notebook所在目录后，复制以下命令到终端执行：\n",
    "#### ../lfit_gui/lfit_script  ./parfile_star"
   ]
  },
  {
   "cell_type": "markdown",
   "id": "64fa23a4",
   "metadata": {},
   "source": [
    "## 拟合twoPSF + sersic"
   ]
  },
  {
   "cell_type": "code",
   "execution_count": 60,
   "id": "ae6d50d6",
   "metadata": {},
   "outputs": [],
   "source": [
    "flag=1   #默认使用刚刚拟合的恒星\n",
    "try:\n",
    "    hdulist=fits.open(\"star_fit.fits\")\n",
    "except:\n",
    "    flag=0  #如果读取不到，说明使用之前拟合过的恒星。也就是说，不重新拟合。\n",
    "    hdulist=fits.open(\"./results/\"+obj+\"-\"+band+\"_fit_star.fits\")\n",
    "ppar=(hdulist[3].data).p_phot\n",
    "\n",
    "peak_moffat_1=ppar[0]\n",
    "x_moffat_1=ppar[1]\n",
    "y_moffat_1=ppar[2]\n",
    "alpha_moffat_1=ppar[3]\n",
    "pa_moffat_1=ppar[4]\n",
    "q_moffat_1=ppar[5]\n",
    "beta_moffat_1=ppar[6]\n",
    "\n",
    "peak_moffat_2=ppar[7]\n",
    "x_moffat_2=ppar[8]\n",
    "y_moffat_2=ppar[9]\n",
    "alpha_moffat_2=ppar[10]\n",
    "pa_moffat_2=ppar[11]\n",
    "q_moffat_2=ppar[12]\n",
    "beta_moffat_2=ppar[13]\n",
    "\n",
    "dx_moffat = x_moffat_2 - x_moffat_1\n",
    "dy_moffat = y_moffat_2 - y_moffat_1\n",
    "fpeak_moffat = peak_moffat_2/peak_moffat_1\n",
    "\n",
    "hdulist.close()\n",
    "\n",
    "#make 2 psf become one\n",
    "\n",
    "x=np.outer(np.ones(2*hw+1), np.arange(2*hw+1)-hw)*dpix\n",
    "y=np.outer(np.arange(2*hw+1)-hw, np.ones(2*hw+1))*dpix\n",
    "PSF1=lf.moffat_2d(x, y, np.array([1.0, 0.0, 0.0, alpha_moffat_1, pa_moffat_1, q_moffat_1, beta_moffat_1]))\n",
    "PSF2=lf.moffat_2d(x, y, np.array([fpeak_moffat, dx_moffat, dy_moffat, alpha_moffat_2, pa_moffat_2, q_moffat_2, beta_moffat_2]))\n",
    "PSF=PSF1+PSF2\n",
    "PSF=PSF/PSF.sum()\n",
    "\n",
    "#prepare fitting data\n",
    "mask=np.ones_like(cutout, dtype=int)\n",
    "hdu=fits.PrimaryHDU(1.0*cutout)\n",
    "hdulist=fits.HDUList([hdu])\n",
    "hdulist.append(fits.ImageHDU(cutout_invvar))\n",
    "hdulist.append(fits.ImageHDU(PSF))\n",
    "hdulist.append(fits.ImageHDU(mask))\n",
    "hdulist.writeto('temp_image.fits', overwrite=True)\n",
    "np.save(obj_name+\"PSF.npy\",PSF)"
   ]
  },
  {
   "cell_type": "code",
   "execution_count": 61,
   "id": "39af2b08",
   "metadata": {},
   "outputs": [],
   "source": [
    "#---------------------------------------two psf + one sersic begin-------------------------------------------------------#\n",
    "\n",
    "#prepare fitting data\n",
    "mask=np.ones_like(cutout, dtype=int)\n",
    "PSF=mask\n",
    "hdu=fits.PrimaryHDU(1.0*cutout)\n",
    "hdulist=fits.HDUList([hdu])\n",
    "hdulist.append(fits.ImageHDU(cutout_invvar))\n",
    "hdulist.append(fits.ImageHDU(PSF))\n",
    "hdulist.append(fits.ImageHDU(mask))\n",
    "hdulist.writeto('temp_image.fits', overwrite=True)\n",
    "\n",
    "\n",
    "\n",
    "f=open('parfile_PSFs_one_sersic', 'w')\n",
    "f.write(\"temp_image.fits 0\\n\")\n",
    "f.write(\"temp_image.fits 1\\n\")\n",
    "f.write(\"temp_image.fits 2\\n\")\n",
    "f.write(\"temp_image.fits 3\\n\")\n",
    "f.write(\"temp_image.fits 3\\n\")\n",
    "f.write(\"temp_image.fits 3\\n\")\n",
    "f.write(obj_name+\"_fit_PSFs_one_sersic.fits\\n\")\n",
    "f.write(\"{:d} {:f}\\n\".format(hw, dpix))\n",
    "f.write(\"0  sersic\\n\")\n",
    "f.write(\"0  sie\\n\")\n",
    "f.write(\"{:d} \".format(2*n_PSF+2))\n",
    "f.write((\"moffat,\"*2*n_PSF)[0:-1]+\",sersic,foreg\\n\")\n",
    "f.write(\"1\\n\")\n",
    "f.write(\"1\\n\")\n",
    "\n",
    "#write parfile_PSFs - 1st PSF\n",
    "f.write(\"value={:f}, vary=1, min=0.0\\n\".format(peak_PSF[0]))\n",
    "f.write(\"value={:f}, vary=1, min={:f}, max={:f}\\n\".format(psf0_xcen, psf0_xcen-5.0, psf0_xcen+5.0))\n",
    "f.write(\"value={:f}, vary=1, min={:f}, max={:f}\\n\".format(psf0_ycen, psf0_ycen-5.0, psf0_ycen+5.0))\n",
    "f.write(\"value={:f}, vary=0, min=0.01\\n\".format(alpha_moffat_1))\n",
    "f.write(\"value={:f}, vary=0, min=0.0, max=180.0\\n\".format(pa_moffat_1))\n",
    "f.write(\"value={:f}, vary=0, min=0.1, max=1.0\\n\".format(q_moffat_1))\n",
    "f.write(\"value={:f}, vary=0, min=1.0, max=10.0\\n\".format(beta_moffat_1))\n",
    "\n",
    "#write parfile_PSFs - 2nd PSF\n",
    "f.write(\"expr=phot0_amp*{:f}\\n\".format(fpeak_moffat))\n",
    "f.write(\"expr=phot0_xcen+{:f}\\n\".format(dx_moffat))\n",
    "f.write(\"expr=phot0_ycen+{:f}\\n\".format(dy_moffat))\n",
    "f.write(\"value={:f}, vary=0, min=0.01\\n\".format(alpha_moffat_2))\n",
    "f.write(\"value={:f}, vary=0, min=0.0, max=180.0\\n\".format(pa_moffat_2))\n",
    "f.write(\"value={:f}, vary=0, min=0.1, max=1.0\\n\".format(q_moffat_2))\n",
    "f.write(\"value={:f}, vary=0, min=1.0, max=10.0\\n\".format(beta_moffat_2))\n",
    "\n",
    "#write parfile_PSFs - 3rd PSF\n",
    "f.write(\"value={:f}, vary=1, min=0.0\\n\".format(peak_PSF[1]))\n",
    "f.write(\"value={:f}, vary=1, min={:f}, max={:f}\\n\".format(psf2_xcen, psf2_xcen-7.0, psf2_xcen+7.0))\n",
    "f.write(\"value={:f}, vary=1, min={:f}, max={:f}\\n\".format(psf2_ycen, psf2_ycen-7.0, psf2_ycen+7.0))\n",
    "f.write(\"value={:f}, vary=0, min=0.01\\n\".format(alpha_moffat_1))\n",
    "f.write(\"value={:f}, vary=0, min=0.0, max=180.0\\n\".format(pa_moffat_1))\n",
    "f.write(\"value={:f}, vary=0, min=0.1, max=1.0\\n\".format(q_moffat_1))\n",
    "f.write(\"value={:f}, vary=0, min=1.0, max=10.0\\n\".format(beta_moffat_1))\n",
    "\n",
    "#write parfile_PSFs - 4th PSF\n",
    "f.write(\"expr=phot2_amp*{:f}\\n\".format(fpeak_moffat))\n",
    "f.write(\"expr=phot2_xcen+{:f}\\n\".format(dx_moffat))\n",
    "f.write(\"expr=phot2_ycen+{:f}\\n\".format(dy_moffat))\n",
    "f.write(\"value={:f}, vary=0, min=0.01\\n\".format(alpha_moffat_2))\n",
    "f.write(\"value={:f}, vary=0, min=0.0, max=180.0\\n\".format(pa_moffat_2))\n",
    "f.write(\"value={:f}, vary=0, min=0.1, max=1.0\\n\".format(q_moffat_2))\n",
    "f.write(\"value={:f}, vary=0, min=1.0, max=10.0\\n\".format(beta_moffat_2))\n",
    "\n",
    "#write sersic parameter\n",
    "\n",
    "f.write(\"value=5.0, vary=1, min=0.0\\n\")  #peak value of sersic\n",
    "f.write(\"value={:f}, vary=0, min={:f}, max={:f}\\n\".format(sersic_xcen,sersic_xcen-0.1,sersic_xcen+0.1)) #location x of sersic\n",
    "f.write(\"value={:f}, vary=0, min={:f}, max={:f}\\n\".format(sersic_ycen,sersic_ycen-0.1,sersic_ycen+0.1)) #location y of sersic\n",
    "f.write(\"value={:f}, vary=1, min={:f}, max={:f}\\n\".format(sersic_r,sersic_r-1,sersic_r+0.5))  #effective radius\n",
    "f.write(\"value={:f}, vary=0, min={:f},, max={:f},\\n\".format(sersic_pa,sersic_pa-20,sersic_pa+20)) #position angle\n",
    "f.write(\"value={:f}, vary=1, min={:f}, max={:f}\\n\".format(sersic_q, sersic_q-0.1, sersic_q+0.1))  #q\n",
    "f.write(\"value={:f}, vary=1, min={:f}, max={:f}\\n\".format(sersic_n, sersic_n-0.1, sersic_n+0.1)) #sersic index\n",
    "f.write(\"value=0.01, vary=1, min=0.0\\n\")#background\n",
    "f.close()\n",
    "\n",
    "\n",
    "\n",
    "#---------------------------------------two psf + one sersic end-------------------------------------------------------#"
   ]
  },
  {
   "cell_type": "markdown",
   "id": "bd12e3f9",
   "metadata": {},
   "source": [
    "### 激活py2，转移notebook所在目录后，复制以下命令到终端执行：\n",
    "#### ../lfit_gui/lfit_script  ./parfile_PSFs_one_sersic"
   ]
  },
  {
   "cell_type": "markdown",
   "id": "b069f894",
   "metadata": {},
   "source": [
    "## 清理文件"
   ]
  },
  {
   "cell_type": "code",
   "execution_count": 62,
   "id": "b29b1885",
   "metadata": {},
   "outputs": [],
   "source": [
    "if flag==1:\n",
    "    cmd = \"mv ./star_fit.fits  ./results/\"+obj_name+\"_fit_star.fits\"\n",
    "    print(cmd)\n",
    "    junk=os.system(cmd)\n",
    "    assert junk==0"
   ]
  },
  {
   "cell_type": "code",
   "execution_count": 63,
   "id": "70ba7750",
   "metadata": {},
   "outputs": [
    {
     "name": "stdout",
     "output_type": "stream",
     "text": [
      "mv ./J0746-r_fit_PSFs_one_sersic.fits ./results/\n"
     ]
    }
   ],
   "source": [
    "cmd = \"mv ./\"+obj_name+\"_fit_PSFs_one_sersic.fits\"+\" ./results/\"\n",
    "print(cmd)\n",
    "junk=os.system(cmd)\n",
    "assert junk==0"
   ]
  },
  {
   "cell_type": "code",
   "execution_count": 64,
   "id": "a9193d34",
   "metadata": {},
   "outputs": [
    {
     "name": "stdout",
     "output_type": "stream",
     "text": [
      "mv J0746-rPSF.npy  ./results/\n"
     ]
    }
   ],
   "source": [
    "cmd = \"mv \"+obj_name+\"PSF.npy\"+\"  ./results/\"\n",
    "print(cmd)\n",
    "junk=os.system(cmd)\n",
    "assert junk==0"
   ]
  },
  {
   "cell_type": "code",
   "execution_count": 65,
   "id": "940c75f3",
   "metadata": {},
   "outputs": [
    {
     "name": "stdout",
     "output_type": "stream",
     "text": [
      "rm temp*\n"
     ]
    }
   ],
   "source": [
    "cmd=\"rm temp*\"\n",
    "print(cmd)\n",
    "junk=os.system(cmd)\n",
    "assert junk==0"
   ]
  },
  {
   "cell_type": "code",
   "execution_count": 66,
   "id": "35b504b6",
   "metadata": {},
   "outputs": [
    {
     "name": "stdout",
     "output_type": "stream",
     "text": [
      "rm parfile*\n"
     ]
    }
   ],
   "source": [
    "cmd=\"rm parfile*\"\n",
    "print(cmd)\n",
    "junk=os.system(cmd)\n",
    "assert junk==0"
   ]
  },
  {
   "cell_type": "code",
   "execution_count": null,
   "id": "b1a3d7d3",
   "metadata": {},
   "outputs": [],
   "source": []
  },
  {
   "cell_type": "code",
   "execution_count": null,
   "id": "02d1a8ed",
   "metadata": {},
   "outputs": [],
   "source": []
  }
 ],
 "metadata": {
  "kernelspec": {
   "display_name": "py2",
   "language": "python",
   "name": "py2"
  },
  "language_info": {
   "codemirror_mode": {
    "name": "ipython",
    "version": 2
   },
   "file_extension": ".py",
   "mimetype": "text/x-python",
   "name": "python",
   "nbconvert_exporter": "python",
   "pygments_lexer": "ipython2",
   "version": "2.7.15"
  }
 },
 "nbformat": 4,
 "nbformat_minor": 5
}
