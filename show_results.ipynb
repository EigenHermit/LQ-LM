{
 "cells": [
  {
   "cell_type": "code",
   "execution_count": 1,
   "id": "5e8c5ffe",
   "metadata": {},
   "outputs": [],
   "source": [
    "import sys\n",
    "sys.path.append(\"../lfit_gui/\")\n",
    "import lens_funcs_gui as lf\n",
    "from astropy.io import fits\n",
    "import os\n",
    "import numpy as np\n",
    "import matplotlib.pyplot as pl\n",
    "import matplotlib.pyplot as plt"
   ]
  },
  {
   "cell_type": "code",
   "execution_count": 2,
   "id": "50ea6210",
   "metadata": {},
   "outputs": [],
   "source": [
    "obj=\"J0746\""
   ]
  },
  {
   "cell_type": "code",
   "execution_count": 3,
   "id": "3cb680a3",
   "metadata": {},
   "outputs": [],
   "source": [
    "def ReadResult(band):\n",
    "\n",
    "    hdul = fits.open('./results/'+obj+'-'+band+'_fit_PSFs_one_sersic.fits')\n",
    "    dof=hdul[0].header['DOF']\n",
    "    chi2=hdul[0].header['CHI2']\n",
    "    ppar=(hdul[3].data).p_phot\n",
    "    data=hdul[4].data\n",
    "    model=hdul[6].data\n",
    "    hdul.close()\n",
    "    \n",
    "    return dof,chi2,ppar,data,model"
   ]
  },
  {
   "cell_type": "code",
   "execution_count": 4,
   "id": "9af48041",
   "metadata": {},
   "outputs": [],
   "source": [
    "# def ReadPSF(band):\n",
    "#     hdul = fits.open('./results/'+obj+'-'+band+'_fit_star.fits')\n",
    "#     PSF=hdul[4].data\n",
    "#     hdul.close()\n",
    "\n",
    "#     PSF=PSF/PSF.sum()\n",
    "    \n",
    "#     return PSF\n",
    "def ReadPSF(band):\n",
    "\n",
    "    PSF=np.load('./results/'+obj+'-'+band+'PSF.npy')\n",
    "    \n",
    "    return PSF"
   ]
  },
  {
   "cell_type": "code",
   "execution_count": 5,
   "id": "2983febd",
   "metadata": {},
   "outputs": [],
   "source": [
    "dof_g,chi2_g,ppar_g,data_g,model_g=ReadResult(\"g\")\n",
    "dof_r,chi2_r,ppar_r,data_r,model_r=ReadResult(\"r\")\n",
    "dof_z,chi2_z,ppar_z,data_z,model_z=ReadResult(\"z\")\n",
    "\n",
    "bkg_g=ppar_g[35]\n",
    "bkg_r=ppar_r[35]\n",
    "bkg_z=ppar_z[35]"
   ]
  },
  {
   "cell_type": "code",
   "execution_count": 6,
   "id": "9c09384d",
   "metadata": {},
   "outputs": [],
   "source": [
    "PSF_g=ReadPSF(\"g\")\n",
    "PSF_r=ReadPSF(\"r\")\n",
    "PSF_z=ReadPSF(\"z\")\n",
    "\n",
    "# hdulist=fits.open(\"../PSF_sub_J2121/J2121-z_temp_image.fits\")\n",
    "# PSF_z2=hdulist[2].data"
   ]
  },
  {
   "cell_type": "code",
   "execution_count": 7,
   "id": "b0d04c59",
   "metadata": {},
   "outputs": [],
   "source": [
    "# PSF_z="
   ]
  },
  {
   "cell_type": "code",
   "execution_count": 8,
   "id": "95128cfd",
   "metadata": {},
   "outputs": [],
   "source": [
    "# pl.imshow(PSF_z1)\n",
    "# print(PSF_z1.sum())"
   ]
  },
  {
   "cell_type": "code",
   "execution_count": 9,
   "id": "15da6b5d",
   "metadata": {},
   "outputs": [],
   "source": [
    "# pl.imshow(PSF_z2)\n",
    "# print(PSF_z2.sum())"
   ]
  },
  {
   "cell_type": "code",
   "execution_count": null,
   "id": "83de817c",
   "metadata": {},
   "outputs": [],
   "source": []
  },
  {
   "cell_type": "markdown",
   "id": "f762a202",
   "metadata": {},
   "source": [
    "## plot"
   ]
  },
  {
   "cell_type": "code",
   "execution_count": 10,
   "id": "15e16023",
   "metadata": {},
   "outputs": [],
   "source": [
    "hw=10;dpix=1\n",
    "x=np.outer(np.ones(2*hw+1), np.arange(2*hw+1)-hw)*dpix\n",
    "y=np.outer(np.arange(2*hw+1)-hw, np.ones(2*hw+1))*dpix\n"
   ]
  },
  {
   "cell_type": "code",
   "execution_count": 11,
   "id": "a2a5c626",
   "metadata": {},
   "outputs": [],
   "source": [
    "I_quasars_g=lf.phot_model(x, y, ppar_g[0:28], ['moffat', 'moffat', 'moffat', 'moffat'], n_phot=4)\n",
    "I_galaxy_g=lf.phot_model(x, y, ppar_g[28:-1], ['sersic'], PSF=PSF_g, n_phot=1)"
   ]
  },
  {
   "cell_type": "code",
   "execution_count": 12,
   "id": "b1b4c8c5",
   "metadata": {},
   "outputs": [],
   "source": [
    "I_quasars_r=lf.phot_model(x, y, ppar_r[0:28], ['moffat', 'moffat', 'moffat', 'moffat'], n_phot=4)\n",
    "I_galaxy_r=lf.phot_model(x, y, ppar_r[28:-1], ['sersic'], PSF=PSF_r, n_phot=1)"
   ]
  },
  {
   "cell_type": "code",
   "execution_count": 13,
   "id": "21c6e37a",
   "metadata": {},
   "outputs": [],
   "source": [
    "I_quasars_z=lf.phot_model(x, y, ppar_z[0:28], ['moffat', 'moffat', 'moffat', 'moffat'], n_phot=4)\n",
    "I_galaxy_z=lf.phot_model(x, y, ppar_z[28:-1], ['sersic'], PSF=PSF_z, n_phot=1)"
   ]
  },
  {
   "cell_type": "code",
   "execution_count": 14,
   "id": "d3cb2d12",
   "metadata": {},
   "outputs": [
    {
     "data": {
      "text/plain": [
       "(array([  5.45075181,  -2.05125988,   2.43324232,   3.42176136,\n",
       "        117.02441472,   0.51319425,   3.35093366]),)"
      ]
     },
     "execution_count": 14,
     "metadata": {},
     "output_type": "execute_result"
    }
   ],
   "source": [
    "ppar_z[28:-1],"
   ]
  },
  {
   "cell_type": "code",
   "execution_count": 15,
   "id": "45deba86",
   "metadata": {},
   "outputs": [
    {
     "data": {
      "text/plain": [
       "0.004836841429425975"
      ]
     },
     "execution_count": 15,
     "metadata": {},
     "output_type": "execute_result"
    }
   ],
   "source": [
    "ppar_z[35]"
   ]
  },
  {
   "cell_type": "code",
   "execution_count": 16,
   "id": "5e822f21",
   "metadata": {},
   "outputs": [],
   "source": [
    "def MakePlot1(data,quasar,galaxy,bkg):\n",
    "    pl.figure(figsize=(12,2))\n",
    "    pl.subplot(141)\n",
    "    pl.imshow(data, origin='lower',cmap=\"bwr\")\n",
    "    pl.colorbar()\n",
    "    pl.subplot(142)\n",
    "    pl.imshow(quasar, origin='lower',cmap=\"bwr\")\n",
    "    pl.colorbar()\n",
    "    pl.subplot(143)\n",
    "    pl.imshow(galaxy, origin='lower',cmap=\"bwr\")\n",
    "    pl.colorbar()\n",
    "    pl.subplot(144)\n",
    "    pl.imshow(data-quasar-galaxy-bkg, origin='lower',cmap=\"bwr\",vmin=-0.06,vmax=0.06)\n",
    "    print((data-quasar-galaxy-bkg).max(),(data-quasar-galaxy-bkg).min())\n",
    "    pl.colorbar()"
   ]
  },
  {
   "cell_type": "code",
   "execution_count": 17,
   "id": "fe31aa6b",
   "metadata": {},
   "outputs": [
    {
     "name": "stdout",
     "output_type": "stream",
     "text": [
      "0.020498566261188574 -0.019971270769055357\n"
     ]
    },
    {
     "data": {
      "image/png": "[encoded data removed]",
      "text/plain": [
       "<Figure size 1200x200 with 8 Axes>"
      ]
     },
     "metadata": {},
     "output_type": "display_data"
    }
   ],
   "source": [
    "MakePlot1(data_g,I_quasars_g,I_galaxy_g,bkg_g)"
   ]
  },
  {
   "cell_type": "code",
   "execution_count": 18,
   "id": "aac9770f",
   "metadata": {},
   "outputs": [],
   "source": [
    "# pl.imshow(data_z-I_quasars_z, origin='lower',cmap=\"bwr\")\n"
   ]
  },
  {
   "cell_type": "code",
   "execution_count": 19,
   "id": "d0d95005",
   "metadata": {},
   "outputs": [
    {
     "data": {
      "text/plain": [
       "<matplotlib.image.AxesImage at 0x7fc9b7330760>"
      ]
     },
     "execution_count": 19,
     "metadata": {},
     "output_type": "execute_result"
    },
    {
     "data": {
      "image/png": "[encoded data removed]",
      "text/plain": [
       "<Figure size 640x480 with 1 Axes>"
      ]
     },
     "metadata": {},
     "output_type": "display_data"
    }
   ],
   "source": [
    "pl.imshow(I_quasars_r, origin='lower',cmap=\"bwr\",vmin=0,vmax=0.6)"
   ]
  },
  {
   "cell_type": "code",
   "execution_count": 20,
   "id": "844abbac",
   "metadata": {},
   "outputs": [
    {
     "data": {
      "text/plain": [
       "<matplotlib.image.AxesImage at 0x7fc9b729ba60>"
      ]
     },
     "execution_count": 20,
     "metadata": {},
     "output_type": "execute_result"
    },
    {
     "data": {
      "image/png": "[encoded data removed]",
      "text/plain": [
       "<Figure size 640x480 with 1 Axes>"
      ]
     },
     "metadata": {},
     "output_type": "display_data"
    }
   ],
   "source": [
    "pl.imshow(data_r, origin='lower',cmap=\"bwr\",vmin=0,vmax=0.6)"
   ]
  },
  {
   "cell_type": "code",
   "execution_count": 21,
   "id": "151acf01",
   "metadata": {},
   "outputs": [
    {
     "name": "stdout",
     "output_type": "stream",
     "text": [
      "0.09918320844501848 -0.0861729429727619\n"
     ]
    },
    {
     "data": {
      "image/png": "[encoded data removed]",
      "text/plain": [
       "<Figure size 1200x200 with 8 Axes>"
      ]
     },
     "metadata": {},
     "output_type": "display_data"
    }
   ],
   "source": [
    "MakePlot1(data_r,I_quasars_r,I_galaxy_r,bkg_r)"
   ]
  },
  {
   "cell_type": "code",
   "execution_count": 22,
   "id": "0dfb1f98",
   "metadata": {},
   "outputs": [
    {
     "data": {
      "text/plain": [
       "1.9818511217114414"
      ]
     },
     "execution_count": 22,
     "metadata": {},
     "output_type": "execute_result"
    }
   ],
   "source": [
    "I_galaxy_z.max()/(data_z-model_z-np.ones_like(model_z)*0.02).max()"
   ]
  },
  {
   "cell_type": "code",
   "execution_count": 23,
   "id": "1dab481a",
   "metadata": {},
   "outputs": [
    {
     "name": "stdout",
     "output_type": "stream",
     "text": [
      "0.05988091372700111 -0.0539651767818192\n"
     ]
    },
    {
     "data": {
      "image/png": "[encoded data removed]",
      "text/plain": [
       "<Figure size 1200x200 with 8 Axes>"
      ]
     },
     "metadata": {},
     "output_type": "display_data"
    }
   ],
   "source": [
    "MakePlot1(data_z,I_quasars_z,I_galaxy_z,bkg_z+0.01)"
   ]
  },
  {
   "cell_type": "markdown",
   "id": "edba7e9a",
   "metadata": {},
   "source": [
    "## catalog"
   ]
  },
  {
   "cell_type": "code",
   "execution_count": 24,
   "id": "5660a8b5",
   "metadata": {},
   "outputs": [],
   "source": [
    "def PrintInfo(band,PSF):\n",
    "    print(band,\"-band results:\")\n",
    "    hdul = fits.open('./results/'+obj+'-'+band+'_fit_PSFs_one_sersic.fits')\n",
    "\n",
    "#     PSF=fits.open(\"J0746-\"+band+\"_temp_image.fits\")[2].data\n",
    "    ppar0=(hdul[3].data).p_phot\n",
    "    I_quasars=lf.phot_model(x, y, ppar0[0:28], ['moffat', 'moffat', 'moffat', 'moffat'], n_phot=4)\n",
    "    I_galaxy=lf.phot_model(x, y, ppar0[28:-1], ['sersic'], PSF=PSF, n_phot=1)\n",
    "    print(\"sersic index:\",round(ppar0[34],3)) #sersic index\n",
    "    print(\"sersic eff radius:\",round(ppar0[31],3)) #sersic eff radius\n",
    "    print(\"sersic x:\",round(ppar0[29],3)) #sersic x\n",
    "    print(\"sersic y:\",round(ppar0[30],3)) #sersic y\n",
    "    print(\"sersic PA\",round(ppar0[32],3)) #sersic  effective radius\n",
    "    print(\"sersic Q\",round(ppar0[33],3)) #sersic  effective radius\n",
    "    print(\"sersic totall flux mag:\",round(-2.5*np.log10(I_galaxy.sum())+22.5,3))  #sersic total flux\n",
    "    print(\"psf1 x:\",round(ppar0[1],3)) #psf1-x\n",
    "    print(\"psf1 y:\",round(ppar0[2],3)) #psf1-y\n",
    "    print(\"psf1 x - gal x:\",round(ppar0[1]-ppar0[29],3)) #psf1-x\n",
    "    print(\"psf1 y - gal y:\",round(ppar0[2]-ppar0[30],3)) #psf1-y\n",
    "    I_quasars1=lf.phot_model(x, y, ppar0[0:14], ['moffat', 'moffat'], n_phot=2)\n",
    "    print(\"psf2 totall flux mag:\",round(-2.5*np.log10(I_quasars1.sum())+22.5,3))  #psf1 total flux\n",
    "    print(\"psf2 x:\",round(ppar0[15],3)) #psf1-x\n",
    "    print(\"psf2 y:\",round(ppar0[16],3)) #psf1-y\n",
    "    print(\"psf2 x - gal x:\",round(ppar0[15]-ppar0[29],3)) #psf1-x\n",
    "    print(\"psf2 y - gal y:\",round(ppar0[16]-ppar0[30],3)) #psf1-y\n",
    "    I_quasars2=lf.phot_model(x, y, ppar0[14:28], ['moffat', 'moffat'], n_phot=2)\n",
    "    print(\"psf2 totall flux mag:\",round(-2.5*np.log10(I_quasars2.sum())+22.5,3))  #psf2 total flux"
   ]
  },
  {
   "cell_type": "code",
   "execution_count": 25,
   "id": "c5273f0f",
   "metadata": {
    "scrolled": true
   },
   "outputs": [
    {
     "name": "stdout",
     "output_type": "stream",
     "text": [
      "g -band results:\n",
      "sersic index: 3.45\n",
      "sersic eff radius: 3.853\n",
      "sersic x: -2.051\n",
      "sersic y: 2.433\n",
      "sersic PA 117.024\n",
      "sersic Q 0.513\n",
      "sersic totall flux mag: 49.355\n",
      "psf1 x: -3.484\n",
      "psf1 y: 3.831\n",
      "psf1 x - gal x: -1.433\n",
      "psf1 y - gal y: 1.397\n",
      "psf2 totall flux mag: 19.135\n",
      "psf2 x: 0.844\n",
      "psf2 y: -4.059\n",
      "psf2 x - gal x: 2.895\n",
      "psf2 y - gal y: -6.492\n",
      "psf2 totall flux mag: 20.337\n"
     ]
    }
   ],
   "source": [
    "PrintInfo(\"g\",PSF_g)"
   ]
  },
  {
   "cell_type": "code",
   "execution_count": 26,
   "id": "581b5a77",
   "metadata": {},
   "outputs": [
    {
     "name": "stdout",
     "output_type": "stream",
     "text": [
      "r -band results:\n",
      "sersic index: 3.451\n",
      "sersic eff radius: 2.422\n",
      "sersic x: -2.051\n",
      "sersic y: 2.433\n",
      "sersic PA 117.024\n",
      "sersic Q 0.513\n",
      "sersic totall flux mag: 30.05\n",
      "psf1 x: -3.662\n",
      "psf1 y: 3.627\n",
      "psf1 x - gal x: -1.611\n",
      "psf1 y - gal y: 1.194\n",
      "psf2 totall flux mag: 18.496\n",
      "psf2 x: 0.635\n",
      "psf2 y: -4.059\n",
      "psf2 x - gal x: 2.687\n",
      "psf2 y - gal y: -6.492\n",
      "psf2 totall flux mag: 20.104\n"
     ]
    }
   ],
   "source": [
    "PrintInfo(\"r\",PSF_r)"
   ]
  },
  {
   "cell_type": "code",
   "execution_count": 27,
   "id": "e34e49fa",
   "metadata": {},
   "outputs": [
    {
     "name": "stdout",
     "output_type": "stream",
     "text": [
      "z -band results:\n",
      "sersic index: 3.351\n",
      "sersic eff radius: 3.422\n",
      "sersic x: -2.051\n",
      "sersic y: 2.433\n",
      "sersic PA 117.024\n",
      "sersic Q 0.513\n",
      "sersic totall flux mag: 20.93\n",
      "psf1 x: -3.997\n",
      "psf1 y: 4.195\n",
      "psf1 x - gal x: -1.946\n",
      "psf1 y - gal y: 1.761\n",
      "psf2 totall flux mag: 18.559\n",
      "psf2 x: 0.36\n",
      "psf2 y: -4.059\n",
      "psf2 x - gal x: 2.411\n",
      "psf2 y - gal y: -6.492\n",
      "psf2 totall flux mag: 19.995\n"
     ]
    }
   ],
   "source": [
    "PrintInfo(\"z\",PSF_z)"
   ]
  },
  {
   "cell_type": "code",
   "execution_count": 28,
   "id": "f897b8f5",
   "metadata": {},
   "outputs": [
    {
     "data": {
      "text/plain": [
       "(0.8008784184872586, 1.134501722664278, 1.070018274360545)"
      ]
     },
     "execution_count": 28,
     "metadata": {},
     "output_type": "execute_result"
    }
   ],
   "source": [
    "chi2_g,chi2_r,chi2_z"
   ]
  },
  {
   "cell_type": "code",
   "execution_count": 29,
   "id": "3a40dcc4",
   "metadata": {},
   "outputs": [
    {
     "data": {
      "text/plain": [
       "5.450751808180766"
      ]
     },
     "execution_count": 29,
     "metadata": {},
     "output_type": "execute_result"
    }
   ],
   "source": [
    "ppar_z[28]"
   ]
  },
  {
   "cell_type": "code",
   "execution_count": null,
   "id": "9a118942",
   "metadata": {},
   "outputs": [],
   "source": []
  }
 ],
 "metadata": {
  "kernelspec": {
   "display_name": "Python 3 (ipykernel)",
   "language": "python",
   "name": "python3"
  },
  "language_info": {
   "codemirror_mode": {
    "name": "ipython",
    "version": 3
   },
   "file_extension": ".py",
   "mimetype": "text/x-python",
   "name": "python",
   "nbconvert_exporter": "python",
   "pygments_lexer": "ipython3",
   "version": "3.9.13"
  }
 },
 "nbformat": 4,
 "nbformat_minor": 5
}
